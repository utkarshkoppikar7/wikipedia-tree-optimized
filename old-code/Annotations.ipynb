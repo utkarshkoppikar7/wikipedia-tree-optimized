{
  "nbformat": 4,
  "nbformat_minor": 0,
  "metadata": {
    "colab": {
      "name": "Wikipedia knowledge system-Module 1 & Module 5.ipynb",
      "provenance": [],
      "collapsed_sections": []
    },
    "kernelspec": {
      "display_name": "Python 3",
      "language": "python",
      "name": "python3"
    },
    "language_info": {
      "codemirror_mode": {
        "name": "ipython",
        "version": 3
      },
      "file_extension": ".py",
      "mimetype": "text/x-python",
      "name": "python",
      "nbconvert_exporter": "python",
      "pygments_lexer": "ipython3",
      "version": "3.7.6"
    }
  },
  "cells": [
    {
      "cell_type": "code",
      "metadata": {
        "colab": {
          "base_uri": "https://localhost:8080/"
        },
        "id": "jbBQU-XeRtEk",
        "outputId": "269393b3-78a6-413c-8cbf-5ac7e9b30a3c"
      },
      "source": [
        "!pip install wikipedia"
      ],
      "execution_count": 1,
      "outputs": [
        {
          "output_type": "stream",
          "text": [
            "Collecting wikipedia\n",
            "  Downloading https://files.pythonhosted.org/packages/67/35/25e68fbc99e672127cc6fbb14b8ec1ba3dfef035bf1e4c90f78f24a80b7d/wikipedia-1.4.0.tar.gz\n",
            "Requirement already satisfied: beautifulsoup4 in /usr/local/lib/python3.7/dist-packages (from wikipedia) (4.6.3)\n",
            "Requirement already satisfied: requests<3.0.0,>=2.0.0 in /usr/local/lib/python3.7/dist-packages (from wikipedia) (2.23.0)\n",
            "Requirement already satisfied: certifi>=2017.4.17 in /usr/local/lib/python3.7/dist-packages (from requests<3.0.0,>=2.0.0->wikipedia) (2021.5.30)\n",
            "Requirement already satisfied: chardet<4,>=3.0.2 in /usr/local/lib/python3.7/dist-packages (from requests<3.0.0,>=2.0.0->wikipedia) (3.0.4)\n",
            "Requirement already satisfied: urllib3!=1.25.0,!=1.25.1,<1.26,>=1.21.1 in /usr/local/lib/python3.7/dist-packages (from requests<3.0.0,>=2.0.0->wikipedia) (1.24.3)\n",
            "Requirement already satisfied: idna<3,>=2.5 in /usr/local/lib/python3.7/dist-packages (from requests<3.0.0,>=2.0.0->wikipedia) (2.10)\n",
            "Building wheels for collected packages: wikipedia\n",
            "  Building wheel for wikipedia (setup.py) ... \u001b[?25l\u001b[?25hdone\n",
            "  Created wheel for wikipedia: filename=wikipedia-1.4.0-cp37-none-any.whl size=11697 sha256=598d8b77f49967dfc1d4ac2f1d70d4b166f4d6439e0f67a1fa534908722bbd2a\n",
            "  Stored in directory: /root/.cache/pip/wheels/87/2a/18/4e471fd96d12114d16fe4a446d00c3b38fb9efcb744bd31f4a\n",
            "Successfully built wikipedia\n",
            "Installing collected packages: wikipedia\n",
            "Successfully installed wikipedia-1.4.0\n"
          ],
          "name": "stdout"
        }
      ]
    },
    {
      "cell_type": "markdown",
      "metadata": {
        "id": "LhVB6-sMkXTr"
      },
      "source": [
        ""
      ]
    },
    {
      "cell_type": "code",
      "metadata": {
        "id": "545tQkxuYfsU"
      },
      "source": [
        "import warnings\n",
        "warnings.filterwarnings(\"ignore\")"
      ],
      "execution_count": 2,
      "outputs": []
    },
    {
      "cell_type": "code",
      "metadata": {
        "id": "DqDpZWtxy8TP"
      },
      "source": [
        "import wikipedia\n",
        "import json\n",
        "from bs4 import BeautifulSoup \n",
        "import requests\n",
        "import re\n",
        "import random"
      ],
      "execution_count": 3,
      "outputs": []
    },
    {
      "cell_type": "code",
      "metadata": {
        "colab": {
          "base_uri": "https://localhost:8080/"
        },
        "id": "bFDDfPYKy8TQ",
        "outputId": "54c77954-15a0-42ca-e591-728b8712385c"
      },
      "source": [
        "page_list=wikipedia.random(pages=5)\n",
        "page_list"
      ],
      "execution_count": 4,
      "outputs": [
        {
          "output_type": "execute_result",
          "data": {
            "text/plain": [
              "['Maravalia',\n",
              " 'Vibe (album)',\n",
              " 'Richard Fowns',\n",
              " 'Saifuddin Ahmed Manik',\n",
              " 'Brigitte Omboudou']"
            ]
          },
          "metadata": {
            "tags": []
          },
          "execution_count": 4
        }
      ]
    },
    {
      "cell_type": "code",
      "metadata": {
        "id": "1_Z0y9r9y8TS"
      },
      "source": [
        "pages = {}"
      ],
      "execution_count": 5,
      "outputs": []
    },
    {
      "cell_type": "markdown",
      "metadata": {
        "id": "9YCAqDrGzeB4"
      },
      "source": [
        "# Trying it out on specific articles"
      ]
    },
    {
      "cell_type": "code",
      "metadata": {
        "colab": {
          "base_uri": "https://localhost:8080/"
        },
        "id": "MNk8qLa5y8TT",
        "outputId": "5688dbae-715c-452a-9e6a-4c016d2f7db1"
      },
      "source": [
        "root = wikipedia.page(\"Republic of India\")\n",
        "node = root.html()\n",
        "bsData = BeautifulSoup(node,features=\"lxml\")\n",
        "saveLink = []\n",
        "paras = bsData.find_all('p')\n",
        "for para in paras:\n",
        "  links = para.find_all('a')\n",
        "  for link in links:\n",
        "    data = re.findall('href=\"/wiki/', str(link))\n",
        "    if len(data)!=0:\n",
        "      x = re.findall(\"\\[*\\]\", str(link.string))\n",
        "      if len(x)==0: \n",
        "        saveLink.append(link.string)\n",
        "print(saveLink)"
      ],
      "execution_count": 6,
      "outputs": [
        {
          "output_type": "stream",
          "text": [
            "['Hindi', 'South Asia', 'second-most populous', 'seventh-largest country', 'democracy', 'Indian Ocean', 'Arabian Sea', 'Bay of Bengal', 'Pakistan', 'China', 'Nepal', 'Bhutan', 'Bangladesh', 'Myanmar', 'Sri Lanka', 'Maldives', 'Andaman and Nicobar Islands', 'Thailand', 'Myanmar', 'Indonesia', 'Modern humans', 'Indian subcontinent', 'genetic diversity', 'Settled life', 'Indus river', 'Indus Valley Civilisation', 'archaic form', 'Sanskrit', 'Indo-European language', 'diffused', 'unfolding', 'Rigveda', 'Hinduism', 'disputed', 'Dravidian languages', 'stratification', 'exclusion', 'caste', 'Buddhism', 'Jainism', 'social orders', 'Maurya', 'Gupta Empires', 'Ganges Basin', 'era', 'untouchability', 'South India', 'Middle kingdoms', 'Southeast Asia', 'Christianity', 'Islam', 'Judaism', 'Zoroastrianism', 'Central Asia', 'Delhi Sultanate', 'networks of medieval Islam', 'Vijayanagara Empire', 'Punjab', 'Sikhism', 'Mughal Empire', 'rule of the British East India Company', 'sovereignty', 'British Crown rule', 'technological changes', 'partitioned', 'dominions', 'Dominion of India', 'Dominion of Pakistan', 'federal republic', 'parliamentary system', 'pluralistic', 'per capita income', 'fast-growing', 'major economy', 'information technology services', 'a space programme', 'extraterrestrial missions', 'nuclear-weapon state', 'military expenditure', 'Kashmir', 'gender inequality', 'child malnutrition', 'air pollution', 'megadiverse', 'biodiversity hotspots', \"India's wildlife\", \"India's culture\", 'protected habitats', 'Oxford English Dictionary', 'Classical Latin', 'South Asia', 'Hellenistic Greek', 'ancient Greek', 'Old Persian', 'Hindush', 'Achaemenid empire', 'cognate', 'Sanskrit', 'Indus river', 'ancient Greeks', 'Bharat', None, 'Indian epic poetry', 'Constitution of India', 'many Indian languages', 'Gangetic Valley', 'Hindustan', None, 'Middle Persian', 'Mughal Empire', 'Pakistan', 'Homo sapiens', 'Mehrgarh', 'Balochistan, Pakistan', 'Indus Valley Civilisation', 'Mohenjo-daro', 'Harappa', 'Dholavira', 'Kalibangan', 'Chalcolithic', 'Iron Age', 'Vedas', 'Hinduism', 'Vedic culture', 'Punjab region', 'Gangetic Plain', 'Indo-Aryan migration', 'caste system', 'Deccan Plateau', 'South India', 'megalithic', 'agriculture', 'irrigation tanks', 'mahajanapadas', 'Mahavira', 'Gautama Buddha', 'renunciation', 'Magadha', 'Mauryan Empire', 'Ashoka', 'dhamma', 'Sangam literature', 'Tamil language', 'Cheras', 'Cholas', 'Pandyas', 'traded extensively with the Roman Empire', 'West', 'South-East Asia', 'Gupta Empire', 'sculpture', 'architecture', 'Classical Sanskrit literature', 'Indian science', 'astronomy', 'medicine', 'mathematics', 'Harsha', 'Kannauj', 'Chalukya', 'Pala', 'Bengal', 'Pallavas', 'Pandyas', 'Cholas', 'devotional hymns', 'modern languages of the subcontinent', 'Myanmar', 'Thailand', 'Laos', 'Cambodia', 'Vietnam', 'Philippines', 'Malaysia', 'Java', 'swift-horse', 'Delhi Sultanate', 'Mongol raiders', 'migration', 'Vijayanagara Empire', 'Shaivite', 'Akbar', 'painting', 'architecture', 'Marathas', 'Rajputs', 'Sikhs', 'East India Company', 'British Empire', 'Lord Dalhousie', 'Europe', 'Indian Rebellion of 1857', 'direct administration of India', 'unitary state', 'Indian National Congress', 'famines', 'one million Indians served', 'British reforms', 'repressive legislation', 'nonviolent', 'Mohandas Karamchand Gandhi', 'Indian participation in World War\\xa0II', 'partition of India', \"one of the world's fastest-growing economies\", 'religious', 'caste-related violence', 'Maoist-inspired Naxalite insurgencies', 'separatism in Jammu and Kashmir', 'in Northeast India', 'China', 'Pakistan', 'Indian tectonic plate', 'Indo-Australian Plate', 'Gondwana', 'drift', 'seafloor spreading', 'Tethyan', 'oceanic crust', 'subduct', 'Eurasian Plate', 'mantle', 'Indian Ocean', 'continental crust', 'Himalayas', 'trough', 'Indo-Gangetic Plain', 'Aravalli Range', 'Thar Desert', 'peninsular India', 'Satpura', 'Vindhya', 'Chota Nagpur Plateau', 'Deccan Plateau', 'Western', 'Eastern Ghats', 'mudflats', 'Ganges', 'Brahmaputra', 'Bay of Bengal', 'Yamuna', 'Kosi', 'Godavari', 'Mahanadi', 'Kaveri', 'Krishna', 'Narmada', 'Tapti', 'Arabian Sea', 'Rann of Kutch', 'Sundarbans', 'archipelagos', 'Lakshadweep', 'coral atolls', 'Andaman Sea', 'Indian climate', 'monsoons', 'katabatic winds', 'tropical wet', 'tropical dry', 'subtropical humid', 'montane', 'Climate change in India', 'heatwaves', 'Retreating Himalayan glaciers', 'Ganges', 'Brahmaputra', 'Yamuna', 'droughts', 'megadiverse country', 'biological diversity', 'indigenous', 'endemic', 'habitat', 'mammal', 'bird', 'reptile', 'amphibian', 'fish', 'flowering plant', 'biodiversity hotspots', 'forest cover', 'tree canopy', 'tropical moist forest', 'Andaman Islands', 'Western Ghats', 'Northeast India', 'temperate coniferous forest', 'Himalayas', 'sal', 'teak', 'babul', 'thorn forest', 'Deccan Plateau', 'Gangetic plain', 'astringent', 'Azadirachta indica', 'herbal medicine', 'Ficus religiosa', 'Mohenjo-daro', 'the Buddha', 'Pali canon', 'Gondwana', 'supercontinent', 'volcanism', 'zoogeographical', 'hooded leaf monkey', \"Beddom's toad\", 'IUCN', 'threatened animal species', 'Bengal tiger', 'Ganges river dolphin', 'Critically endangered', 'gharial', 'crocodilian', 'great Indian bustard', 'Indian white-rumped vulture', 'diclofenac', 'national parks', 'protected areas', 'Wildlife Protection Act', 'Project Tiger', 'more than five hundred wildlife sanctuaries', None, 'World Network of Biosphere Reserves', 'twenty-five wetlands', 'Ramsar Convention', 'democracy', 'parliamentary republic', 'multi-party system', 'national parties', 'Indian National Congress', 'Bharatiya Janata Party', 'regional parties', 'political culture', 'right-wing', 'coalition governments', 'Jawaharlal Nehru', 'Lal Bahadur Shastri', 'Indira Gandhi', 'state of emergency', 'Janata Party', 'Rajiv Gandhi', 'National Front', 'Janata Dal', 'Left Front', 'minority government', 'P. V. Narasimha Rao', 'United Front', 'National Democratic Alliance', 'Atal Bihari Vajpayee', 'coalition government', '2004 Indian general elections', 'United Progressive Alliance', '2009 general election', \"India's communist parties\", 'Manmohan Singh', 'Jawaharlal Nehru', '1957', '1962', '2014 general election', 'Narendra Modi', 'chief minister', 'Gujarat', 'Ram Nath Kovind', 'federation', 'parliamentary system', 'Constitution of India', 'representative democracy', 'majority rule', 'minority rights', 'law', 'Federalism in India', 'states', 'sovereign', 'democratic', 'republic', 'secular', 'Government of India', 'states', 'union territories', 'Jammu and Kashmir', 'Puducherry', 'National Capital Territory of Delhi', 'States Reorganisation Act', 'Africa', 'Asia', 'played a leading role', 'Non-Aligned Movement', 'war with China in 1962', 'tense relations', '1947', '1965', '1971', '1999', 'disputed territory of Kashmir', 'independence of Bangladesh', 'peace-keeping operation', 'Sri Lanka', \"1988 coup d'état attempt\", 'ties with the Soviet Union', 'special relationship with Russia', 'defence relations with Israel', 'France', 'South Asian Association for Regional Cooperation', 'World Trade Organization', 'military', 'police', 'UN peacekeeping operations', 'East Asia Summit', 'G8+5', 'South America', '\"Look East\" policy', 'ASEAN', 'Japan', 'South Korea', 'nuclear test of 1964', 'first nuclear weapons test', 'additional underground testing', 'Comprehensive Nuclear-Test-Ban Treaty', 'Nuclear Non-Proliferation Treaty', 'no first use', 'nuclear triad', 'Minimum Credible Deterrence', 'ballistic missile defence shield', 'fifth-generation fighter jet', None, None, 'Cold War', 'United States', 'European Union', 'civilian nuclear agreement', 'International Atomic Energy Agency', 'Nuclear Suppliers Group', 'civilian nuclear energy', 'United Kingdom', 'Canada', \"world's second-largest military\", 'Indian Army', 'Indian Navy', 'Indian Air Force', 'Indian Coast Guard', 'defence budget', 'Stockholm International Peace Research Institute', 'Indian Space Research Organisation', 'South Asia Satellite', 'SAARC', '₹', 'Russia', 'S-400 Triumf', 'missile defence', 'International Monetary Fund', 'sixth-largest economy', 'third-largest', 'purchasing power parity', \"world's fastest-growing economies\", 'nominal GDP per capita', 'GDP per capita at PPP', 'protectionist', 'state intervention and regulation', 'balance of payments crisis in 1991', 'liberalise its economy', 'WTO', 'Indian labour force', \"world's second-largest\", 'tenth-largest importer', 'nineteenth-largest exporter', 'China', 'global competitiveness', 'eleventh-largest', 'GDP per capita', 'PricewaterhouseCoopers', 'transport infrastructure', 'education', 'energy security', 'public health', 'Economist Intelligence Unit', 'Bangalore', 'Mumbai', 'Chennai', 'New Delhi', 'telecommunication industry', 'second-largest in the world', 'Indian automotive industry', 'Indian IT industry', 'pharmaceutical industry in India', 'biopharmaceutical', 'Indian rupees', \"India's capacity to generate electrical power\", 'gigawatts', 'renewable', \"The country's usage of coal\", 'greenhouse gas emissions by India', 'renewable energy', 'greenhouse gas emissions', 'carbon dioxide', 'access to electricity', 'clean cooking', 'liquefied petroleum gas', 'energy in India', 'largest number', 'Food and Agriculture Organization', 'Mid-Day Meal Scheme', 'Walk Free Foundation', 'modern slavery', 'bonded labour', 'child labour', 'economic inequality', 'net state domestic product', 'Corruption in India', 'Corruption Perceptions Index', '2011 provisional census report', 'Green Revolution', 'million-plus urban agglomerations in India', 'Mumbai', 'Delhi', 'Kolkata', 'Chennai', 'Bangalore', 'Hyderabad', 'Ahmedabad', 'Kerala', 'Bihar', 'two major language families', 'Indo-Aryan', 'Dravidian', 'Austroasiatic', 'Sino-Tibetan', 'Hindi', 'English', 'education', 'religion in India', 'Hinduism', 'Islam', 'Christianity', 'Sikhism', 'Buddhism', 'Jainism', 'third-largest', 'Vedic period', 'Hindu philosophy', 'mythology', 'theology', 'literature', 'dhárma', 'kárma', 'yóga', 'mokṣa', 'religious diversity', 'Hinduism', 'Buddhism', 'Sikhism', 'Islam', 'Christianity', 'Jainism', 'Upanishads', 'Yoga Sutras', None, 'Buddhist philosophy', 'Eurasia', 'Seals', 'Indus Valley Civilization', 'Pakistan', '\"Pashupati\" seal', 'Mohenjo-daro', 'sculpture', 'Mauryan art', 'Buddhist art', 'Central', 'East', 'South-East Asia', 'Hindu art', 'ancient Greek sculpture', 'Ardhanarishvara', 'Parvati', 'stupas', 'Sanchi', 'Sarnath', 'Amaravati', 'reliefs', 'Ajanta', 'Karla', 'Ellora', 'Gupta art', 'Elephanta Caves', 'Pallava', 'Chola dynasties', 'sustained period of great achievement', 'Nataraja', 'Ajanta Caves', 'Deccan painting', 'Mughal miniature', 'among the Rajputs', 'Nihâl Chand', 'Nainsukh', 'Company painting', 'Kalighat paintings', 'folk art', 'Calcutta', 'Bengal School of Art', 'modern Indian painting', 'Bhutesvara Yakshis', 'Mathura', 'Gupta', 'terracotta', 'Krishna', 'Horse Demon Keshi', 'Elephanta Caves', 'bust', 'Jahangir', 'Prince Khurram', 'Ajmer', 'Mewar', 'Kangra painting', 'Indian architecture', 'Taj Mahal', 'Mughal architecture', 'South Indian architecture', 'Vernacular architecture', 'Vastu shastra', 'Mamuni Mayan', 'Hindu temple architecture', 'Shilpa Shastras', 'absolute', 'Agra', 'Shah Jahan', 'UNESCO World Heritage List', 'Indo-Saracenic Revival architecture', 'Indo-Islamic architecture', 'Sanskrit', 'Sanskrit literature', 'Rigveda', 'epics', 'Mahābhārata', 'Ramayana', 'The Recognition of Śakuntalā', 'Kālidāsa', 'Mahākāvya', 'Tamil literature', 'Sangam literature', 'devotional poets', 'Kabīr', 'Tulsīdās', 'Guru Nānak', 'works', 'Rabindranath Tagore', 'Nobel Prize in Literature', 'Indian music', 'Classical music', 'Hindustani', 'Carnatic', 'filmi', 'folk music', 'syncretic', 'bauls', 'Indian dance', 'folk dances', 'bhangra', 'bihu', 'Jhumair', 'chhau', 'garba', 'dandiya', 'ghoomar', 'lavani', 'classical dance status', 'National Academy of Music, Dance, and Drama', 'bharatanatyam', 'kathak', 'kathakali', 'mohiniyattam', 'kuchipudi', 'manipuri', 'odissi', 'sattriya', 'Theatre in India', 'bhavai', 'jatra', 'nautanki', 'ramlila', 'tamasha', 'burrakatha', 'terukkuttu', 'yakshagana', 'National School of Drama', 'New Delhi', 'Ministry of Culture', 'Government of India', 'Indian film industry', 'Assamese', 'Bengali', 'Bhojpuri', 'Hindi', 'Kannada', 'Malayalam', 'Punjabi', 'Gujarati', 'Marathi', 'Odia', 'Tamil', 'Telugu', 'South Indian', 'state monopoly', 'Indian caste system', 'endogamous', 'jātis', 'untouchability', 'their marriages arranged', 'Child marriages', 'Female infanticide in India', 'female foeticide', 'missing women', 'dowry', 'illegal', 'Deaths resulting from dowry', 'bride burning', 'Indian festivals', 'Diwali', 'Ganesh Chaturthi', 'Thai Pongal', 'Holi', 'Durga Puja', 'Eid ul-Fitr', 'Bakr-Id', 'Christmas', 'Vaisakhi', 'affirmative action', 'economic development', 'sari', 'petticoat', 'blouse', 'choli', 'dhoti', 'chaddar', 'pagri', 'turban', 'Kushans', 'Central Asia', 'Delhi sultanate', 'Mughal Empire', 'shalwars', 'pyjamas', 'kurta', 'kameez', 'bias', 'churidars', 'set-in sleeves', 'Punjab', 'kurta', 'Central Asian', 'tunics', 'chikan', 'standing collars', 'pyjamas', 'shalwars', 'churidars', 'jeans', 'bandgala', 'Nehru jackets', 'groomsmen', 'sherwanis', 'khadi', 'liturgical', 'vestments', 'foodways', 'Mughals', 'Portuguese', 'pilaf', 'biryani', 'vindaloo', 'tiffin', 'Railway mutton curry', 'Columbian exchange', 'chilli peppers', 'spice trade', 'Europe', 'Age of Discovery', 'cereals', 'Deccan Plateau', 'Rajasthan', 'lentils', 'pulses', 'ginger', 'garlic', 'coriander', 'cumin', 'turmeric', 'cinnamon', 'cardamon', 'thali', 'ahimsa', 'Upanishadic Hinduism', 'Buddhism', 'Jainism', 'Hindi', 'Mughal Empire', 'Central', 'West Asia', 'pilaf', 'Abbasid caliphate', 'Agra', 'biryani', 'Punjabi cuisine', 'Punjab', 'partition of India', 'tandoori chicken', 'tandoor', 'Central Asia', 'Cricket', 'Indian Premier League', 'kabaddi', 'kho kho', 'pehlwani', 'gilli-danda', 'martial arts', 'Kalarippayattu', 'musti yuddha', 'silambam', 'marma adi', 'Chess', 'originated in India', 'chaturaṅga', 'grandmasters', 'Pachisi', 'parcheesi', 'Akbar', 'Indian Davis Cup team', 'Indian tennis players', 'comparatively strong presence', 'Olympics', 'World Shooting Championships', 'badminton', 'Saina Nehwal', 'P V Sindhu', 'Football', 'West Bengal', 'Goa', 'Tamil Nadu', 'Kerala', 'north-eastern states', '1951', '1982 Asian Games', '1987', '1996', '2011 Cricket World Cup', '2003 Afro-Asian Games', '2006 ICC Champions Trophy', '2010 Hockey World Cup', '2010 Commonwealth Games', '2017 FIFA U-17 World Cup', 'Chennai Open', 'Mumbai Marathon', 'Delhi Half Marathon', 'Indian Masters', 'Formula 1', 'Indian Grand Prix', 'South Asian Games', 'basketball competition', 'Indian team', 'Coordinates']\n"
          ],
          "name": "stdout"
        }
      ]
    },
    {
      "cell_type": "code",
      "metadata": {
        "id": "OyzDpBeU9L08"
      },
      "source": [
        "def parseLinks(article,val=1000):\n",
        "  root = wikipedia.page(article,auto_suggest=True,)\n",
        "  node = root.html()\n",
        "  bsData = BeautifulSoup(node,\"lxml\")\n",
        "  saveLink = []\n",
        "  paras = bsData.find_all('p')\n",
        "  i=0\n",
        "  for para in paras:\n",
        "    links = para.find_all('a')\n",
        "    for link in links:\n",
        "      data = re.findall('href=\"/wiki/', str(link))\n",
        "      if len(data)!=0:\n",
        "        x = re.findall(\"\\[*\\]\", str(link.string))\n",
        "        if len(x)==0: \n",
        "          saveLink.append(link.string)\n",
        "          i+=1\n",
        "          if i>=val:\n",
        "            return saveLink\n",
        "  return saveLink"
      ],
      "execution_count": 7,
      "outputs": []
    },
    {
      "cell_type": "code",
      "metadata": {
        "colab": {
          "base_uri": "https://localhost:8080/"
        },
        "id": "SAzWP98Kc-BI",
        "outputId": "730481eb-d327-46fb-f405-323d4351ec52"
      },
      "source": [
        "print(wikipedia.suggest(\"Philosophy of science\"))"
      ],
      "execution_count": 8,
      "outputs": [
        {
          "output_type": "stream",
          "text": [
            "None\n"
          ],
          "name": "stdout"
        }
      ]
    },
    {
      "cell_type": "code",
      "metadata": {
        "colab": {
          "base_uri": "https://localhost:8080/"
        },
        "id": "ATEMUWBXy8TT",
        "outputId": "90b6d4c6-829f-4cbd-b450-461552974ffa"
      },
      "source": [
        "article = \"Republic of India\"\n",
        "saveLink=[]\n",
        "for i in range(10):\n",
        "  print(str(article),\"-->\",end=\" \")\n",
        "  while True:\n",
        "    try:\n",
        "      p = wikipedia.page(article)\n",
        "    except (wikipedia.DisambiguationError,wikipedia.PageError):\n",
        "      ind  = random.randint(1,len(saveLink)-1)\n",
        "      article = str(saveLink[ind])\n",
        "    else:\n",
        "      break\n",
        "  saveLink = parseLinks(article)\n",
        "  ind  = random.randint(1,len(saveLink)-1)\n",
        "  article = str(saveLink[ind])\n",
        "  if (i+1)%9==0:\n",
        "    print()"
      ],
      "execution_count": 9,
      "outputs": [
        {
          "output_type": "stream",
          "text": [
            "Republic of India --> Lal Bahadur Shastri --> BBC --> Poona Sarvajanik Sabha --> Aundh State --> Hindu --> Yadava --> Bihar --> Pāṇini --> \n",
            "semiology --> "
          ],
          "name": "stdout"
        }
      ]
    },
    {
      "cell_type": "code",
      "metadata": {
        "id": "WOJdRk2OzUxY"
      },
      "source": [
        "def commonLinks(first,second):\n",
        "  try:\n",
        "    list1 = parseLinks(first)\n",
        "    list2 = parseLinks(second)\n",
        "  except (wikipedia.DisambiguationError,wikipedia.PageError,ValueError):\n",
        "    return 0\n",
        "  return len(set(list1) & set(list2))"
      ],
      "execution_count": 10,
      "outputs": []
    },
    {
      "cell_type": "code",
      "metadata": {
        "id": "9Z9fyVkt8dAz"
      },
      "source": [
        "def commonLinksSmall(first,second):\n",
        "  try:\n",
        "    list1 = parseLinks(first,20)\n",
        "    list2 = parseLinks(second,20)\n",
        "  except (wikipedia.DisambiguationError,wikipedia.PageError,ValueError):\n",
        "    return 0\n",
        "  return len(set(list1) & set(list2))"
      ],
      "execution_count": 11,
      "outputs": []
    },
    {
      "cell_type": "code",
      "metadata": {
        "id": "6ccOrhObfCAI"
      },
      "source": [
        "def commonLinksSmallList(first,second):\n",
        "  try:  \n",
        "    list2 = parseLinks(second,50)\n",
        "  except (wikipedia.DisambiguationError,wikipedia.PageError,ValueError):\n",
        "    return 0\n",
        "  return len(set(first) & set(list2))"
      ],
      "execution_count": 12,
      "outputs": []
    },
    {
      "cell_type": "code",
      "metadata": {
        "id": "0t3KXQ4Wgpjt"
      },
      "source": [
        "def commonLinksList(first,second):\n",
        "  return len(set(first) & set(second))"
      ],
      "execution_count": 13,
      "outputs": []
    },
    {
      "cell_type": "markdown",
      "metadata": {
        "id": "TrZdWl25gLe7"
      },
      "source": [
        "# Major Topic Clusters"
      ]
    },
    {
      "cell_type": "markdown",
      "metadata": {
        "id": "G0IP8_i6K3hi"
      },
      "source": [
        "Philosophy"
      ]
    },
    {
      "cell_type": "code",
      "metadata": {
        "colab": {
          "base_uri": "https://localhost:8080/"
        },
        "id": "QRWW8DeaK0Zc",
        "outputId": "4427248a-e4f7-4a6d-a304-27221b1e1190"
      },
      "source": [
        "phil = parseLinks('Philosophy')\n",
        "print(phil) "
      ],
      "execution_count": 14,
      "outputs": [
        {
          "output_type": "stream",
          "text": [
            "['Greek', 'existence', 'reason', 'knowledge', 'values', 'mind', 'language', 'Pythagoras', 'Philosophical methods', 'questioning', 'critical discussion', 'rational argument', 'philosopher', 'Ancient Greek', 'Aristotle', 'natural philosophy', 'astronomy', 'medicine', 'physics', 'Newton', 'Mathematical Principles of Natural Philosophy', 'research universities', 'professionalize', 'psychology', 'sociology', 'linguistics', 'economics', 'metaphysics', 'existence', 'reality', 'epistemology', 'knowledge', 'belief', 'ethics', 'moral value', 'logic', 'rules of inference', 'conclusions', 'true', 'premises', 'philosophy of science', 'political philosophy', 'aesthetics', 'philosophy of language', 'philosophy of mind', 'knowledge', 'Lives and Opinions of the Eminent Philosophers', 'Diogenes Laërtius', 'Pyrrhonist', 'Sextus Empiricus', 'Academic Skeptic', 'Cicero', 'astronomy', 'chemistry', 'biology', 'cosmology', 'social sciences', 'value theory', 'aesthetics', 'political philosophy', 'mathematics', 'philosophy of science', 'Newton', 'Mathematical Principles of Natural Philosophy', 'natural philosophy', 'astronomy', 'medicine', 'physics', 'the sciences', 'wisdom', 'reality', 'morality', 'Western philosophy', 'Western world', 'pre-Socratic', 'Greece', 'Thales', 'c.', 'c.', 'Pythagoras', 'Latin', 'Western philosophy', 'Thales', 'Socrates', 'the pre-Socratics', 'Greek philosophical schools', 'Plato', 'Platonic Academy', 'Aristotle', 'Peripatetic school', 'Cynicism', 'Cyrenaicism', 'Stoicism', 'Academic Skepticism', 'Democritus', 'Pyrrhonism', 'Epicureanism', 'metaphysics', 'atomism', 'monism', 'cosmology', 'eudaimonia', 'possibility of knowledge', 'logos', 'Roman empire', 'Latin', 'Romans', 'Cicero', 'Seneca', 'Roman philosophy', 'Medieval philosophy', 'Western Roman Empire', 'Christianity', 'Judeo-Christian', 'God', 'faith', 'problem of evil', 'St. Augustine', 'Thomas Aquinas', 'Boethius', 'Anselm', 'Roger Bacon', 'Theology', 'Scholasticism', 'medieval universities', 'Renaissance', 'Humanism', 'Early modern philosophy', 'Thomas Hobbes', 'René Descartes', 'modern philosophy', 'Spinoza', 'Leibniz', 'Locke', 'Berkeley', 'Hume', 'Kant', '19th-century philosophy', 'late modern philosophy', 'the Enlightenment', 'Hegel', 'German idealism', 'Kierkegaard', 'existentialism', 'Nietzsche', 'John Stuart Mill', 'utilitarianism', 'Karl Marx', 'communism', 'William James', 'analytic philosophy', 'continental philosophy', 'phenomenology', 'existentialism', 'logical positivism', 'pragmatism', 'linguistic turn', 'Contemporary philosophy', 'Fertile Crescent', 'Iran', 'Arabia', 'Islamic culture', 'Wisdom Literature', 'Ancient Egypt', 'sebayt', 'Ancient Egyptian philosophy', 'Babylonian astronomy', 'Jewish philosophy', 'Christian philosophy', 'Tanakh', 'Geonim', 'Talmudic Academies in Babylonia', 'Maimonides', 'Moses Mendelssohn', 'Haskalah', 'Jewish existentialism', 'Reform Judaism', 'Gnosticism', 'gnosis', 'Iranian philosophy', 'Zoroaster', 'monotheism', 'dualism', 'Manichaeism', 'Mazdakism', 'Zurvanism', 'Islamic philosophy', 'Islamic tradition', 'Arabic', 'Muslim conquests', 'translation movement', 'Early Islamic philosophy', 'Islamic Golden Age', 'Kalam', 'Islamic theology', 'Falsafa', 'Aristotelianism', 'Neoplatonism', 'Al-Kindi', 'Avicenna', 'Averroes', 'Al-Ghazali', 'Ibn al-Haytham', 'Al-Biruni', 'scientific method', 'Ibn Khaldun', 'philosophy of history', 'Mongol invasions', 'destruction of Baghdad', 'Illuminationist philosophy', 'Sufi philosophy', 'Transcendent theosophy', 'Arab world', 'Nahda', 'contemporary Islamic philosophy', 'Indian philosophy', 'Sanskrit', 'lit.', 'Indian subcontinent', 'dhárma', 'karma', 'pramāṇa', 'duḥkha', 'saṃsāra', 'mokṣa', 'Upanishads', 'later Vedic period', 'Brahmanism', 'Jainism', 'Buddhism', 'Vedic period', 'Hinduism', 'āstika', 'Vedas', 'brahman', 'ātman', 'Hindu', 'darśanas', 'Sānkhya', 'Yoga', 'Nyāya', 'Vaisheshika', 'Mimāmsā', 'Vedānta', 'Hindu philosophy', 'pramana', 'guṇa', 'hermeneutics', 'soteriology', 'classical Hinduism', 'Shaiva Agamas and Tantras', 'Shavism', 'Pashupata', 'Shaiva Siddhanta', 'non-dual tantric Shavism', 'Īśvara', 'Cārvāka', 'Ājīvika', 'Jain philosophy', 'jiva', 'astikayas', 'dhárma', 'adharma', 'ākāśa', 'pudgala', 'Jain theory of karma', 'ahiṃsā', 'Anēkāntavāda', 'Tattvartha Sutra', 'Gautama Buddha', 'fl.', 'early Buddhist texts', 'Magadha', 'Indian subcontinent', 'East Asia', 'Tibet', 'Central Asia', 'Southeast Asia', 'Tibetan', 'Chinese', 'Pali', 'trans-cultural', 'Mahayana', 'Theravada', 'Southeast Asian', 'Sri Lanka', 'Burma', 'Thailand', 'ignorance', 'dukkha', 'meditative practices', 'four noble truths', 'anicca', 'anatta', 'Abhidharma', 'Mahayana', 'Nagarjuna', 'Vasubandhu', 'śūnyatā', 'vijñapti-matra', 'transcendental idealism', 'Dignāga', 'pramāṇa', 'Buddhist epistemology', 'Jan Westerhoff', 'Mahāsāṃghika', 'Sthavira', 'Sarvāstivāda', 'Vibhajyavāda', 'Pudgalavāda', 'Mahayana', 'Tibetan Buddhist', 'East Asian Buddhist', 'Theravada Buddhist', 'Ancient China', 'Chinese philosophy', 'Western Zhou', 'Hundred Schools of Thought', 'Confucianism', 'Legalism', 'Taoism', 'Mohism', 'Naturalism', 'Tao', 'Yin and yang', 'Ren', 'Li', 'Han', 'Tang', 'Xuanxue', 'Neo-Confucianism', 'Song dynasty', 'imperial exams', 'scholar official class', 'Han Yu', 'Li Ao', 'Zhou Dunyi', 'Zhu Xi', 'Four Books', 'Great Learning', 'Doctrine of the Mean', 'Analects', 'Mencius', 'Wang Yangming', 'gradual Silk road transmission', 'Zen', 'East Asian cultural sphere', 'Korean philosophy', 'Vietnamese philosophy', 'Japanese philosophy', 'Ming Dynasty', 'Joseon dynasty', 'Neo-Confucianism', 'Wang Yangming', 'Tokugawa shogunate', 'Chinese cultural sphere', 'Chinese Marxist philosophy', 'Mao Zedong', 'Hu Shih', 'New Confucianism', 'Xiong Shili', 'Humanistic Buddhism', 'Rangaku', 'Meirokusha', 'Kokugaku', 'Motoori Norinaga', 'Shinto', 'Kyoto School', 'phenomenology', 'Dogen', 'African people', 'Ethnophilosophy', 'African', 'Ethiopian philosophy', 'Zera Yacob', 'Anton Wilhelm Amo', 'Ujamaa', 'Bantu', \"'Force'\", 'Négritude', 'Pan-Africanism', 'Ubuntu', 'Africana philosophy', 'African diaspora', 'black existentialism', 'African-Americans', 'Marxism', 'African-American literature', 'Critical theory', 'Critical race theory', 'Postcolonialism', 'Feminism', 'Indigenous-American', 'U.S. Native American', 'Great Spirit', 'Siouan', 'wakȟáŋ tȟáŋka', 'Algonquian', 'gitche manitou', 'orenda', 'shamanism', 'Mesoamerica', 'Aztec philosophy', 'Tlamatini', 'Aztec codices', 'Ōmeteōtl', 'Teotl', 'Pantheism', 'Nahua', 'Inca civilization', 'Inca education', 'Yanantin', 'Masintin', 'Ancient', 'Hipparchia of Maroneia', 'Arete of Cyrene', 'medieval', 'modern', 'Western canon', '20th and 21st century', 'G.E.M. Anscombe', 'Hannah Arendt', 'Simone de Beauvoir', 'Susanne Langer', 'admitting women', 'U.S. Department of Education', 'humanities', 'Colin McGinn', 'philosophical progress', 'David Chalmers', 'University of Virginia', 'Kantian', 'Platonic', 'nature', 'art', 'beauty', 'taste', 'sensory', 'judgments', 'sentiment', 'literary theory', 'film theory', 'music theory', 'Cubist', 'conduct', 'wrong', 'values', 'good and evil', 'morality', 'normative ethics', 'meta-ethics', 'applied ethics', 'Epistemology', 'knowledge', 'perceptual experience', 'reason', 'memory', 'testimony', 'truth', 'belief', 'justification', 'rationality', 'Philosophical skepticism', 'Pre-Socratic philosophy', 'Pyrrho', 'earliest Western school of philosophical skepticism', 'René Descartes', 'David Hume', 'empiricism', 'rationalism', 'a posteriori knowledge', 'scientific knowledge', 'a priori knowledge', 'logic', 'mathematics', 'belief', 'truth', 'justification', 'Gettier problem', 'regress problem', 'foundation', 'circular reasoning', 'coherentism', 'infinite regress', 'infinitism', 'reality', 'existence', 'time', 'objects', 'properties', 'causation', 'mind', 'body', 'cosmology', 'world', 'ontology', 'being', 'realism', 'idealism', 'identity', 'Essence', 'accident', 'Particulars', 'abstract objects', 'universals', 'Logic', 'Deductive reasoning', 'unavoidably implied', 'Rules of inference', 'modus ponens', 'formal science', 'mathematical logic', 'philosophical logic', 'Modal logic', 'computational logic', 'non-classical logics', 'philosophy of mathematics', 'Philosophy of language', 'Philosophy of mind', 'materialism', 'dualism', 'cognitive science', 'philosophy of science', 'philosophy of biology', 'government', 'state', 'citation needed', 'religion', 'theology', 'existence of God', 'faith', 'religious epistemology', 'relationship between religion and science', 'religious experiences', 'afterlife', 'problem of religious language', 'souls', 'religious pluralism', 'Metaphilosophy', 'professors', 'Steve Martin', 'Ricky Gervais', 'Terrence Malick', 'Pope John Paul II', 'Larry Sanger', 'Peter Thiel', 'Stephen Bryer', 'Carly Fiorina', 'Curtis White', 'Berggruen Prize', 'Charles Taylor']\n"
          ],
          "name": "stdout"
        }
      ]
    },
    {
      "cell_type": "markdown",
      "metadata": {
        "id": "tfBdJ9l5czRd"
      },
      "source": [
        "Mathematics"
      ]
    },
    {
      "cell_type": "code",
      "metadata": {
        "colab": {
          "base_uri": "https://localhost:8080/"
        },
        "id": "Veaq34D3K1cP",
        "outputId": "3eacc98e-2551-46eb-b89d-afd436d051a0"
      },
      "source": [
        "math = parseLinks('Mathematics')\n",
        "print(math) "
      ],
      "execution_count": 15,
      "outputs": [
        {
          "output_type": "stream",
          "text": [
            "['Greek', 'quantity', 'number theory', 'structure', 'algebra', 'space', 'geometry', 'change', 'analysis', 'definition', 'patterns', 'conjectures', 'truth', 'mathematical proof', 'mathematical structures', 'nature', 'abstraction', 'logic', 'counting', 'calculation', 'measurement', 'shapes', 'motions', 'physical objects', 'written records', 'research', 'Rigorous arguments', 'Greek mathematics', 'Euclid', 'Elements', 'Giuseppe Peano', 'David Hilbert', 'on axiomatic systems in the late 19th\\xa0century', 'rigorous', 'deduction', 'axioms', 'definitions', 'Renaissance', 'scientific discoveries', 'natural science', 'engineering', 'medicine', 'finance', 'social sciences', 'Applied mathematics', 'statistics', 'game theory', 'pure mathematics', 'abstractions', 'tallies', 'count', 'prehistoric', 'BC', 'Babylonians', 'arithmetic', 'algebra', 'geometry', 'astronomy', 'Mesopotamia', 'Egypt', 'Pythagorean triples', 'Pythagorean theorem', 'Babylonian mathematics', 'elementary arithmetic', 'addition', 'subtraction', 'multiplication', 'division', 'sexagesimal', 'Pythagoreans', 'Greek mathematics', 'Ancient Greeks', 'Euclid', 'axiomatic method', 'Elements', 'Archimedes', 'Syracuse', 'solids of revolution', 'method of exhaustion', 'area', 'parabola', 'summation of an infinite series', 'conic sections', 'Apollonius of Perga', 'trigonometry', 'Hipparchus of Nicaea', 'Diophantus', 'Hindu–Arabic numeral system', 'India', 'Western world', 'Islamic mathematics', 'sine', 'cosine', 'infinite series', 'Golden Age of Islam', 'Islamic mathematics', 'algebra', 'spherical trigonometry', 'decimal point', 'Al-Khwarismi', 'Omar Khayyam', 'Sharaf al-Dīn al-Ṭūsī', 'early modern period', 'Western Europe', 'calculus', 'Leonhard Euler', 'Carl Friedrich Gauss', 'algebra', 'analysis', 'differential geometry', 'matrix theory', 'number theory', 'statistics', 'Kurt Gödel', 'incompleteness theorems', 'science', 'Bulletin of the American Mathematical Society', 'Mathematical Reviews', 'theorems', 'proofs', 'Ancient Greek', 'adjective', 'Latin', 'Pythagoreanism', 'astrology', 'astronomy', 'Saint Augustine', 'plural', 'derivative', 'neuter', 'Cicero', 'Aristotle', 'physics', 'metaphysics', 'Aristotle', 'group theory', 'projective geometry', 'logicist', 'intuitionist', 'formalist', 'Benjamin Peirce', 'Principia Mathematica', 'Bertrand Russell', 'Alfred North Whitehead', 'logicism', 'symbolic logic', 'Intuitionist', 'L. E. J. Brouwer', 'law of excluded middle', 'proof by contradiction', 'Formalist', 'Haskell Curry', 'formal system', 'Carl Friedrich Gauss', 'Marcus du Sautoy', 'Karl Popper', 'physics', 'biology', 'hypothetico', 'deductive', 'empirical evidence', 'exploration of the logical consequences', 'Intuition', 'conjectures', 'Experimental mathematics', 'liberal arts', 'philosophy of mathematics', 'land measurement', 'astronomy', 'physicist', 'Richard Feynman', 'path integral formulation', 'quantum mechanics', 'string theory', 'fundamental forces of nature', 'pure mathematics', 'applied mathematics', 'number theory', 'cryptography', 'Eugene Wigner', 'the unreasonable effectiveness of mathematics', 'philosopher of mathematics', 'Mark Steiner', 'Mary Leng', 'anti-realists', 'Mathematics Subject Classification', 'operations research', 'computer science', 'aesthetics', 'Simplicity', 'proof', 'Euclid', 'prime numbers', 'numerical method', 'fast Fourier transform', 'G. H. Hardy', \"A Mathematician's Apology\", 'characterization', 'Proofs from THE BOOK', 'recreational mathematics', 'philosophy of mathematics', 'mathematical proof', 'Euler', 'Barbara Oakley', 'Mathematical language', 'open', 'field', 'homeomorphism', 'integrable', 'if and only if', 'mathematical jargon', 'Mathematical proof', 'rigor', 'theorems', 'Isaac Newton', 'computer-assisted proofs', 'proof assistants', 'Feit–Thompson theorem', 'Axioms', 'axiomatic system', \"Hilbert's program\", \"Gödel's incompleteness theorem\", 'undecidable', 'axiomatization', 'set theory', 'arithmetic', 'algebra', 'geometry', 'analysis', 'logic', 'set theory', 'foundations', 'applied mathematics', 'uncertainty', 'Langlands program', 'Galois groups', 'Riemann surfaces', 'number theory', 'Discrete mathematics', 'foundations of mathematics', 'mathematical logic', 'set theory', 'logic', 'sets', \"controversy over Cantor's set theory\", 'Brouwer–Hilbert controversy', 'axiomatic', \"Gödel's incompleteness theorems\", 'formal system', 'recursion theory', 'model theory', 'proof theory', 'theoretical computer science', 'category theory', 'consequence of the MRDP theorem', 'Theoretical computer science', 'computability theory', 'computational complexity theory', 'information theory', 'Turing machine', None, 'Millennium Prize Problems', 'compression', 'entropy', 'natural numbers', 'integers', 'arithmetic', 'number theory', \"Fermat's Last Theorem\", 'twin prime', \"Goldbach's conjecture\", 'subset', 'rational numbers', 'fractions', 'real numbers', 'continuous', 'complex numbers', 'fundamental theorem of algebra', 'equations', 'quaternions', 'octonions', 'transfinite numbers', 'infinity', 'cardinal numbers', 'aleph numbers', 'sets', 'functions', 'operations', 'relations', 'number theory', 'integers', 'arithmetic', 'structures', 'abstraction', 'axioms', 'groups', 'rings', 'fields', 'abstract algebra', 'compass and straightedge constructions', 'Galois theory', 'linear algebra', 'vector spaces', 'vectors', 'geometry', 'algebra', 'Combinatorics', 'geometry', 'Euclidean geometry', 'Pythagorean theorem', 'Trigonometry', 'non-Euclidean geometries', 'general relativity', 'topology', 'analytic geometry', 'differential geometry', 'algebraic geometry', 'Convex', 'discrete geometry', 'number theory', 'functional analysis', 'optimization', 'computer science', 'fiber bundles', 'manifolds', 'vector', 'tensor calculus', 'polynomial', 'topological groups', 'Lie groups', 'Topology', 'point-set topology', 'set-theoretic topology', 'algebraic topology', 'differential topology', 'metrizability theory', 'axiomatic set theory', 'homotopy theory', 'Morse theory', 'Poincaré conjecture', 'Hodge conjecture', 'four color theorem', 'Kepler conjecture', 'natural sciences', 'calculus', 'Functions', 'real numbers', 'real analysis', 'complex analysis', 'complex numbers', 'Functional analysis', 'spaces', 'quantum mechanics', 'differential equations', 'dynamical systems', 'chaos theory', 'deterministic', 'Applied mathematics', 'engineering', 'business', 'industry', 'mathematical science', 'knowledge', 'pure mathematics', 'probability theory', 'random sampling', 'experiments', 'observational studies', 'modelling', 'inference', 'model selection', 'estimation', 'predictions', 'tested', 'new data', 'Statistical theory', 'decision problems', 'risk', 'expected loss', 'procedure', 'parameter estimation', 'hypothesis testing', 'selecting the best', 'mathematical statistics', 'objective function', 'cost', 'optimization', 'decision sciences', 'operations research', 'control theory', 'mathematical economics', 'Computational mathematics', 'mathematical problems', 'Numerical analysis', 'analysis', 'functional analysis', 'approximation theory', 'approximation', 'discretisation', 'rounding errors', 'algorithmic', 'matrix', 'graph theory', 'computer algebra', 'symbolic computation', 'Fields Medal', 'Wolf Prize in Mathematics', 'Abel Prize', 'Chern Medal', 'open problems', \"Hilbert's problems\", 'David Hilbert', 'Millennium Prize Problems', 'Riemann hypothesis', 'Poincaré conjecture']\n"
          ],
          "name": "stdout"
        }
      ]
    },
    {
      "cell_type": "markdown",
      "metadata": {
        "id": "imAEUUoyc1S9"
      },
      "source": [
        "Science"
      ]
    },
    {
      "cell_type": "code",
      "metadata": {
        "colab": {
          "base_uri": "https://localhost:8080/"
        },
        "id": "Phmsf0MwK1oe",
        "outputId": "dd5b1428-e7fe-4949-f3e4-034c4c0f4134"
      },
      "source": [
        "sci = parseLinks('Philosophy of science')\n",
        "print(sci) "
      ],
      "execution_count": 16,
      "outputs": [
        {
          "output_type": "stream",
          "text": [
            "['philosophy', 'methods', 'science', 'what qualifies as science', 'metaphysics', 'ontology', 'epistemology', 'truth', 'bioethics', 'scientific misconduct', 'ethics', 'science studies', 'truth about unobservable things', 'whether scientific reasoning can be justified', 'biology', 'physics', 'Aristotle', 'logical positivist', 'Charles Sanders Peirce', 'Karl Popper', 'Thomas Kuhn', 'The Structure of Scientific Revolutions', 'scientific progress', 'paradigm', 'coherentist', 'W.V. Quine', 'Stephen Jay Gould', 'axiomatic', 'uniformity of nature', 'Paul Feyerabend', 'scientific method', 'supernatural', 'knowledge is created', 'sociological', 'David Bloor', 'Barry Barnes', 'continental philosophy', 'time', 'general relativity', 'economics', 'public policy', 'reduced', 'psychology', 'foundations of statistics', 'philosophy of medicine', 'social sciences', 'human nature', 'values', 'non-science', 'psychoanalysis', 'creation science', 'inflationary multiverse', 'macroeconomics', 'Karl Popper', 'Martin Gardner', 'Potter Stewart standard', 'logical positivists', 'falsifiability', 'pseudoscience', 'fringe science', 'junk science', 'Richard Feynman', 'cargo cult science', 'explanations', 'explanatory power', 'deductive-nomological', 'scientific law', 'Wesley Salmon', 'inductive reasoning', 'probable', 'subjective', 'abductive reasoning', \"Ockham's razor\", 'simplest', 'heuristic', 'parsimony', 'Nicholas Maxwell', 'Albert Einstein', 'general theory of relativity', 'Einstein cross', 'four different images', 'theory-laden', 'perception', 'cognition', 'cannot answer', 'scientific theories', 'unobservables', 'Instrumentalists', 'history of science', 'modeling', 'postmodern', 'values', 'evolution', 'social class', 'phrenology', 'Feminist philosophers of science', 'Plato', 'Aristotle', 'abductive', 'deductive', 'inductive', 'analogy', 'Ibn al-Haytham', 'Alhazen', 'geometry', 'reflection', 'refraction', 'Roger Bacon', 'Francis Bacon', 'Scientific Revolution', 'Novum Organum', 'Organon', 'system of logic', 'syllogism', 'René Descartes', 'Discourse on Method', 'reason', 'Isaac Newton', 'Philosophiae Naturalis Principia Mathematica', 'David Hume', 'skepticism', 'causality', 'problem of induction', 'John Stuart Mill', 'Instrumentalism', 'verificationism', 'theories of knowledge', 'logicism', 'empiricism', 'linguistics', 'empirical sciences', 'Berlin Circle', 'Vienna Circle', 'Ludwig Wittgenstein', 'philosophy of language', 'Bertrand Russell', 'logical atomism', 'Ernst Mach', 'phenomenalism', 'Percy Bridgman', 'operationalism', 'symbolic logic', 'rational reconstruction', 'ordinary language', 'logical syntax', 'logical calculus', 'empirical operation', 'Otto Neurath', 'physicalism', 'Rudolf Carnap', 'World War II', 'Carl Hempel', 'covering law model', 'analytic philosophy', 'Anglosphere', 'The Structure of Scientific Revolutions', 'Thomas Kuhn', 'logically consistent', 'paradigm shift', 'scientific progress', 'relativism', 'Kuhn', 'Naturalism', 'transit of Venus', 'optics', 'mechanics', 'celestial mechanics', 'citation needed', 'Duhem–Quine thesis', 'Pierre Duhem', 'W.V. Quine', \"Newton's Law of Gravitation\", 'Uranus', 'Neptune', 'citation needed', 'Karl Popper', 'naïve falsification', 'Paul Feyerabend', 'methodological rules', 'ideology', 'religion', 'magic', 'mythology', 'authoritarian', 'social construct', 'science wars', 'David Bloor', 'Harry Collins', 'Bruno Latour', 'Ian Hacking', 'Anselm Strauss', 'economics have also been applied', 'by whom?', 'science and technology studies', 'continental philosophical tradition', 'by whom?', 'Friedrich Nietzsche', 'The Genealogy of Morals', 'world-historical', 'Georg Wilhelm Friedrich Hegel', 'Pierre Duhem', 'Gaston Bachelard', '\"life-world\"', 'phenomenology', 'Edmund Husserl', 'Merleau-Ponty', 'hermeneutics', 'Martin Heidegger', 'theoretical attitude', 'human life', 'Alexandre Koyré', 'Michel Foucault', 'The Order of Things', 'madness', 'Jürgen Habermas', 'Carl Friedrich von Weizsäcker', 'German', 'Wolfgang Stegmüller', 'Analysis', 'Reductionism', 'Daniel Dennett', 'greedy reductionism', 'Philip Kitcher', 'foundations of statistics', 'statistical hypothesis testing', 'p-value', 'Bayesian inference', 'probability interpretations', 'overfitting', 'correlation and causation', 'mathematics', 'numbers', 'triangles', 'mind', 'propositions', 'calculus', 'experience or reason alone', 'theorem', 'mathematical proof', 'logic', 'intuition', 'material universe', 'quantum', 'superposition', 'wavefunction collapse', 'philosophical', 'physics', 'matter', 'energy', 'interact', 'space and time', 'atoms', 'atomism', 'cosmology', 'interpretation of quantum mechanics', 'statistical mechanics', 'causality', 'determinism', 'physical laws', 'metaphysics', 'methodology', 'chemistry', 'quantum mechanics', 'how theories are confirmed', 'reaction mechanisms', 'chemical bonds', 'space', 'astrophysical phenomena', 'Solar System', 'atmosphere', 'hydrosphere', 'geosphere', 'epistemological', 'metaphysical', 'ethical', 'biological', 'biomedical', 'Aristotle', 'Descartes', 'Leibniz', 'Kant', 'modern synthesis', 'deoxyribonucleic acid', 'genetic engineering', 'reduction', 'biochemical', 'psychology', 'neuroscience', 'Peter Godfrey-Smith', 'further explanation needed', 'medical ethics', 'bioethics', 'epistemology', 'ontology', 'metaphysics', 'evidence-based medicine', 'blinding', 'placebo', 'Cartesian dualism', 'psychiatry', 'mental illness', 'philosophy of mind', 'psychopathology', 'psychology', 'behavior', 'mental perception and thought processes', 'Likert scale', 'cognitive science', 'philosophy of mind', 'rational', 'free will', 'cognitive neuroscience', 'evolutionary psychology', 'artificial intelligence', 'neurophilosophy', 'Paul Churchland', 'Patricia Churchland', 'dualism', 'monism', 'methods', 'archaeology', 'theoretical', 'epistemological', 'ethical', 'metaphysics', 'phenomenology', 'cultural', 'biological', 'historical', 'linguistic', 'epistemological', 'metaphysical', 'axiological', 'geography', 'economics', 'social sciences', 'sociology', 'political science', 'natural sciences', 'ontological', 'structure and agency', 'Auguste Comte', 'positivism', 'natural sciences', 'geoscience', 'astronomy', 'physics', 'chemistry', 'biology', 'social science', 'sociologie', 'law of three stages', 'social research', 'Durkheim', 'Marx', 'Weber', 'psychology', 'behaviourism', 'technocrats', 'social progress', 'scientism', 'bias', 'Thomas Kuhn', 'critical realism', 'neopragmatism', 'Jürgen Habermas', 'instrumental rationality', 'ideology', 'philosophy', 'technology', 'philosophy of engineering']\n"
          ],
          "name": "stdout"
        }
      ]
    },
    {
      "cell_type": "markdown",
      "metadata": {
        "id": "6ycIl9rMc255"
      },
      "source": [
        "History"
      ]
    },
    {
      "cell_type": "code",
      "metadata": {
        "colab": {
          "base_uri": "https://localhost:8080/"
        },
        "id": "Q88QLX1nK2ri",
        "outputId": "d3246106-6eb4-4201-f7b7-06be25d437b0"
      },
      "source": [
        "his = parseLinks('History')\n",
        "print(his) "
      ],
      "execution_count": 17,
      "outputs": [
        {
          "output_type": "stream",
          "text": [
            "['George Santayana', 'Greek', 'invention of writing systems', 'prehistory', 'umbrella term', 'Historians', 'historical sources', 'academic discipline', 'narrative', 'nature of history', 'King Arthur', 'cultural heritage', 'legends', 'myth', 'evidence', 'major discipline', 'Herodotus', 'Greek historian', 'Thucydides', 'chronicle', 'Spring and Autumn Annals', 'Ancient Greek', 'Aristotle', 'History of Animals', 'Homeric Hymns', 'Heraclitus', 'Athenian', 'ephebes', 'Boiotic', 'Old Irish', 'Old Welsh', 'Old English', 'Old French', 'Anglo-Norman', 'Middle English', 'Ancrene Wisse', 'John Gower', 'Confessio Amantis', 'Middle English', 'Renaissance', 'Francis Bacon', 'natural history', 'memory', 'science', 'reason', 'poetry', 'fantasy', 'synthetic vs. analytic/isolating dichotomy', 'storytelling', 'German', 'French', 'Romance languages', 'European languages', 'historiography', 'Benedetto Croce', 'clarification needed', 'humanities', 'social sciences', 'historian', 'Fernand Braudel', 'economics', 'anthropology', 'geography', 'oral tradition', 'Archaeology', 'Annapolis, Maryland', 'culturally', 'Big History', 'theoretical', 'history of the world', 'experience', 'Homo sapiens sapiens', 'Sub-Saharan Africa', 'pre-Columbian', 'Western world', 'E. H. Carr', 'Indigenous Australians', 'Māori', 'methodology', 'philosophy of history', 'meta-level', 'world view', 'historical criticism', 'textual criticism', 'historians', 'primary sources', 'write history', 'Herodotus', 'Halicarnassus', 'Thucydides', 'History of the Peloponnesian War', 'cause and effect', 'cyclical', 'China', 'East Asia', 'Han dynasty', 'Sima Qian', 'Records of the Grand Historian', 'Chinese historiography', 'historical texts', 'citation needed', 'Saint Augustine', 'Christian', 'Western thought', 'Renaissance', 'sacred', 'Georg Wilhelm Friedrich Hegel', 'philosophy', 'secular', 'Muqaddimah', 'Arab historian', 'early sociologist', 'Ibn Khaldun', 'superstition', 'scientific method', 'state', 'communication', 'propaganda', 'systematic bias', 'Herbert Spencer', 'Henry Thomas Buckle', 'Leopold von Ranke', 'great men', 'social science', 'art', 'Fernand Braudel', 'E. H. Carr', 'Fritz Fischer', 'Emmanuel Le Roy Ladurie', 'Hans-Ulrich Wehler', 'Bruce Trigger', 'Marc Bloch', 'Karl Dietrich Bracher', 'Peter Gay', 'Robert Fogel', 'Lucien Febvre', 'Lawrence Stone', 'digital history', 'Hugh Trevor-Roper', 'John Lukacs', 'Donald Creighton', 'Gertrude Himmelfarb', 'Gerhard Ritter', 'imagination', 'Annales School', 'cultural history', 'histoire des mentalités', 'Herbert Butterfield', 'Ernst Nolte', 'George Mosse', 'social history', 'Alltagsgeschichte', 'Martin Broszat', 'Ian Kershaw', 'Detlev Peukert', 'Nazi', 'Marxist historians', 'Eric Hobsbawm', 'E. P. Thompson', 'Rodney Hilton', 'Georges Lefebvre', 'Eugene Genovese', 'Isaac Deutscher', 'C. L. R. James', 'Timothy Mason', 'Herbert Aptheker', 'Arno J. Mayer', 'Christopher Hill', 'Karl Marx', 'François Furet', 'Richard Pipes', 'J. C. D. Clark', 'Roland Mousnier', 'Henry Ashby Turner', 'Robert Conquest', 'Feminist', 'Joan Wallach Scott', 'Claudia Koonz', 'Natalie Zemon Davis', 'Sheila Rowbotham', 'Gisela Bock', 'Gerda Lerner', 'Elizabeth Fox-Genovese', 'Lynn Hunt', 'postmodernists', 'Richard J. Evans', 'Keith Windschuttle', 'John H. Arnold', 'Google', 'Marxist theory', 'historical materialism', 'Marx', 'Engels', 'Western Europe', 'Marxist historiography', 'bias', 'Constantin Fasolt', 'Michel-Rolph Trouillot', 'Gerda Lerner', 'William Cronon', 'history of science', 'history of mathematics', 'history of philosophy', 'periods of time', 'Centuries', 'decades', 'dating system', 'prehistoric', 'archaeology', 'Stone Age', 'Bronze Age', 'Iron Age', 'radiocarbon dating', 'geographical', 'continents', 'countries', 'cities', 'geography', 'Jules Michelet', 'geography of Egypt', 'Ellsworth Huntington', 'Military history', 'Church History', 'The Catholic Historical Review', 'History of Religions', 'political history', 'political history', 'intellectual history', 'great men', 'G. M. Trevelyan', 'social history', 'art in society', 'iconography', 'Diplomatic history', 'international relations', 'Muriel Chamberlain', 'Business history', 'Oswald Spengler', 'Arnold J. Toynbee', \"people's history\", 'perspective of common people', 'disenfranchised', 'oppressed', 'poor', 'nonconformists', 'History Workshop', 'Gender history', 'Gender studies', 'gender', \"women's history\", 'feminist', 'LGBT history', 'ancient civilizations', 'lesbian', 'gay', 'bisexual', 'transgender', 'LGBT', 'Public history', 'lists of historians', 'Chroniclers', 'annalists', 'legal judgements', 'collective memory', 'Pseudohistory', 'historiographical conventions', 'historical revisionism', 'Charles Harding Firth', 'Thomas Frederick Tout', 'world history', 'Nouvelle histoire', 'Nanking Massacre', 'United States', 'Southern states', 'slavery', 'American Civil War', 'McGraw-Hill Education']\n"
          ],
          "name": "stdout"
        }
      ]
    },
    {
      "cell_type": "markdown",
      "metadata": {
        "id": "jyCcyFZGyix-"
      },
      "source": [
        "Geography"
      ]
    },
    {
      "cell_type": "code",
      "metadata": {
        "colab": {
          "base_uri": "https://localhost:8080/"
        },
        "id": "_6oXkkdNykGv",
        "outputId": "3400c5f7-c958-4c9d-e52b-ad33c04729bc"
      },
      "source": [
        "geo = parseLinks('Geography')\n",
        "print(geo) "
      ],
      "execution_count": 18,
      "outputs": [
        {
          "output_type": "stream",
          "text": [
            "['Greek', 'science', 'Earth', 'planets.', 'Eratosthenes', 'its human and natural complexities', 'human geography', 'physical geography', 'atmosphere', 'hydrosphere', 'biosphere', 'geosphere', 'spatial analyses', 'area studies', 'Earth sciences', 'physical sciences', 'cartography', 'toponymy', 'cartology', 'space', 'temporal database', 'interaction', 'environment', 'economics', 'health', 'climate', 'plants', 'animals', 'human geography', 'physical geography', 'built environment', 'organisms', 'soil', 'water', 'landforms', 'environmental geography', 'Earth science', 'lithosphere', 'hydrosphere', 'atmosphere', 'pedosphere', 'flora', 'fauna', 'biosphere', 'seasons', 'climate', 'atmosphere', 'soil', 'oceans', 'Biogeography', 'Climatology', 'meteorology', 'Coastal geography', 'Environmental management', 'Geodesy', 'Geomorphology', 'Glaciology', 'Hydrology', 'hydrography', 'Landscape ecology', 'Oceanography', 'Pedology', 'Palaeogeography', 'Quaternary science', 'human', 'political', 'cultural', 'social', 'economic', 'Cultural geography', 'Development geography', 'Economic geography', 'Health geography', 'Historical', 'Time geog.', 'Political geog.', 'Geopolitics', 'Pop. geog.', 'Demography', 'Religion geography', 'Social geography', 'Transportation geography', 'Tourism geography', 'Urban geography', 'Integrated geography', 'natural world', 'globalization', 'technological change', 'emergency management', 'environmental management', 'sustainability', 'political ecology', 'Geomatics', 'cartography', 'topography', 'quantitative revolution', 'spatial analysis', 'geographic information systems', 'remote sensing', 'global positioning systems', 'Northern America', 'regionalization', 'delimitation', 'maps', 'cartography', 'geographic information systems', 'cognitive psychology', 'ergonomics', 'behavioural psychology', 'geodesy', 'mathematics', 'shape of the Earth', 'computer science', 'database', 'GIS software', 'science', 'satellite imagery', 'aerial photography', 'land surface', 'electromagnetic spectrum', 'Geostatistics', 'quantitative data', 'hydrology', 'geology', 'petroleum', 'urban planning', 'logistics', 'epidemiology', 'cluster analysis', 'linear discriminant analysis', 'non-parametric statistical tests', 'geographic information systems', 'interpolation', 'cultural geography', 'qualitative research', 'anthropology', 'sociology', 'Participant observation', 'world maps', 'ancient Babylon', 'Babylonian', 'Imago Mundi', 'Eckhard Unger', 'Babylon', 'Euphrates', 'Assyria', 'Urartu', 'Oceanus', 'world map', 'Anaximander', 'gnomon', 'latitude', 'Thales', 'Chinese', 'Greeks', 'art', 'science', 'Cartography', 'Philosophy', 'Literature', 'Mathematics', 'Earth is spherical', 'Parmenides', 'Pythagoras', 'Anaxagoras', 'eclipses', 'Eratosthenes', 'latitude and longitude', 'Hipparchus', 'sexagesimal', 'Babylonian mathematics', 'minutes', 'Romans', 'Ptolemy', 'atlases', 'Hipparchus', 'Chinese', 'Liu An', 'Pei Xiu', 'Jia Dan', 'Shen Kuo', 'Fan Chengda', 'Zhou Daguan', 'Xu Xiake', 'Middle Ages', 'fall of the Roman empire', 'Islamic world', 'Muslim geographers', 'Muhammad al-Idrisi', 'Tabula Rogeriana', 'Yaqut al-Hamawi', 'Abu Rayhan Biruni', 'Ibn Battuta', 'Ibn Khaldun', 'Mahmud al-Kashgari', 'Piri Reis', 'Piri Reis map', 'interpreted', 'Romans', 'Greeks', 'House of Wisdom', 'Baghdad', 'Abū Zayd al-Balkhī', 'Balkh', 'Baghdad', 'equirectangular projection', 'Abu Rayhan Biruni', 'azimuthal equidistant projection', 'celestial sphere', 'Middle East', 'Indian subcontinent', 'latitude', 'longitude', 'mountains', 'valleys', 'horizon', 'human geography', 'planetary habitability', 'Earth', 'latitude', 'Khwarezm', 'geodesic', \"Earth's circumference\", 'Earth radius', 'al-Biruni', 'trigonometric', 'plain', 'mountain', 'Age of Discovery', 'Christopher Columbus', 'Marco Polo', 'James Cook', 'John Harrison', 'H-4', 'International Meridian Conference', 'Greenwich meridian', 'academic discipline', 'university', 'Paris', 'Berlin', 'Société de Géographie', 'Royal Geographical Society', 'Russian Geographical Society', 'American Geographical Society', 'National Geographic Society', 'Immanuel Kant', 'Alexander von Humboldt', 'Carl Ritter', 'Paul Vidal de la Blache', 'geomatics', 'environmental determinism', 'regional geography', 'quantitative revolution', 'critical geography', 'geology', 'botany', 'economics', 'sociology', 'demographics', 'earth system science']\n"
          ],
          "name": "stdout"
        }
      ]
    },
    {
      "cell_type": "markdown",
      "metadata": {
        "id": "EM0aSEp7kY7Y"
      },
      "source": [
        "# Annotations"
      ]
    },
    {
      "cell_type": "code",
      "metadata": {
        "id": "RC3pin_yrSZa"
      },
      "source": [
        "def annotate(page):\n",
        "  try:\n",
        "    data = wikipedia.page(page)\n",
        "  except (wikipedia.DisambiguationError,wikipedia.PageError):\n",
        "    while True:\n",
        "      try:\n",
        "        page = str(wikipedia.suggest(page))\n",
        "        data = wikipedia.page(page)\n",
        "      except (wikipedia.DisambiguationError,wikipedia.PageError):\n",
        "        page = str(wikipedia.suggest(page))\n",
        "        data = wikipedia.page(page)\n",
        "      else:\n",
        "        break\n",
        "  x = re.match(\"([^.]*)\", data.summary)\n",
        "  line = x.group(1) \n",
        "  line = re.sub(r\"\\([^()]*\\)\" ,'',line)\n",
        "  first = re.sub(r\"\\([^()]*\\)\" ,'',line)\n",
        "\n",
        "  second = \"< \"+page+\" , \" \n",
        "\n",
        "  links1 = parseLinks(page)\n",
        "  \n",
        "  phil1 = commonLinksList(links1,phil) \n",
        "  math1 = commonLinksList(links1,math)\n",
        "  sci1 = commonLinksList(links1,sci)\n",
        "  his1 = commonLinksList(links1,his)\n",
        "  geo1 = commonLinksList(links1,geo)\n",
        "\n",
        "  max1 = max(phil1,max(math1,max(sci1,max(his1,geo1))))\n",
        "\n",
        "  if max1 == phil1:\n",
        "    second+=\"Philosophy\"\n",
        "  elif max1 == math1:\n",
        "    second+=\"Mathematics\"\n",
        "  elif max1 == sci1:\n",
        "    second+=\"Philosophy of Science\"\n",
        "  elif max1 == his1:\n",
        "    second+=\"History\"\n",
        "  elif max1 == geo1:\n",
        "    second+=\"Geography\"\n",
        "  else:\n",
        "    second+=\"None\"\n",
        "  second+=\">\"\n",
        "  \n",
        "  third=[]\n",
        "  dis = []\n",
        "  q=0\n",
        "  for link in links1:\n",
        "    val = commonLinksSmallList(links1,link)\n",
        "    dis.append(val)\n",
        "    if(val>0):\n",
        "      q+=1\n",
        "    if q>=3:\n",
        "      break\n",
        "  i=0\n",
        "  c=0\n",
        "  for link in links1:\n",
        "    if(c>=3):\n",
        "      break\n",
        "    if(dis[i]>0):\n",
        "      third.append(str(\"<\"+link+\">\"))\n",
        "      c+=1\n",
        "    i+=1\n",
        "  annotations =[]\n",
        "  annotations.append(first)\n",
        "  annotations.append(second)\n",
        "  annotations.append(third)\n",
        "  return annotations"
      ],
      "execution_count": 19,
      "outputs": []
    },
    {
      "cell_type": "code",
      "metadata": {
        "colab": {
          "base_uri": "https://localhost:8080/"
        },
        "id": "bmtB437XhEjg",
        "outputId": "0d2d964d-f778-4941-caa7-e3134e0e107b"
      },
      "source": [
        "annotate(\"Albert Einstein\")"
      ],
      "execution_count": 20,
      "outputs": [
        {
          "output_type": "execute_result",
          "data": {
            "text/plain": [
              "['Albert Einstein  was a German-born theoretical physicist, widely acknowledged to be one of the greatest physicists of all time',\n",
              " '< Albert Einstein , Philosophy of Science>',\n",
              " ['<theoretical physicist>', '<quantum mechanics>', '<modern physics>']]"
            ]
          },
          "metadata": {
            "tags": []
          },
          "execution_count": 20
        }
      ]
    },
    {
      "cell_type": "code",
      "metadata": {
        "colab": {
          "base_uri": "https://localhost:8080/"
        },
        "id": "gNcMAT71nVN4",
        "outputId": "b30ab4f3-611c-40bc-a8a7-d19c21144e70"
      },
      "source": [
        "annotate(\"World war\")"
      ],
      "execution_count": 21,
      "outputs": [
        {
          "output_type": "execute_result",
          "data": {
            "text/plain": [
              "['A world war is \"a war engaged in by all or most of the principal nations of the world\"',\n",
              " '< World war , History>',\n",
              " ['<war>', '<Cold War>', '<War on Terror>']]"
            ]
          },
          "metadata": {
            "tags": []
          },
          "execution_count": 21
        }
      ]
    },
    {
      "cell_type": "code",
      "metadata": {
        "colab": {
          "base_uri": "https://localhost:8080/"
        },
        "id": "ejryha6OoXHs",
        "outputId": "44a76962-4a09-499f-a27d-0da0032e429c"
      },
      "source": [
        "annotate(\"Artificial Intelligence\")"
      ],
      "execution_count": 22,
      "outputs": [
        {
          "output_type": "execute_result",
          "data": {
            "text/plain": [
              "['Artificial intelligence  is intelligence demonstrated by machines, unlike the natural intelligence displayed by humans and animals, which involves consciousness and emotionality',\n",
              " '< Artificial Intelligence , Philosophy of Science>',\n",
              " ['<intelligence>', '<machines>', '<displayed by humans>']]"
            ]
          },
          "metadata": {
            "tags": []
          },
          "execution_count": 22
        }
      ]
    },
    {
      "cell_type": "code",
      "metadata": {
        "colab": {
          "base_uri": "https://localhost:8080/"
        },
        "id": "iReagXAepADy",
        "outputId": "421c9117-3b86-45f5-c3d9-f849d0dc56a6"
      },
      "source": [
        "annotate(\"Alan Turing\")"
      ],
      "execution_count": 23,
      "outputs": [
        {
          "output_type": "execute_result",
          "data": {
            "text/plain": [
              "['Alan Mathison Turing   was an English mathematician, computer scientist, logician, cryptanalyst, philosopher, and theoretical biologist',\n",
              " '< alan tuning , Mathematics>',\n",
              " ['<mathematician>', '<computer scientist>', '<cryptanalyst>']]"
            ]
          },
          "metadata": {
            "tags": []
          },
          "execution_count": 23
        }
      ]
    },
    {
      "cell_type": "code",
      "metadata": {
        "colab": {
          "base_uri": "https://localhost:8080/"
        },
        "id": "VJzXVX3wB-Uu",
        "outputId": "ecbb9c12-ef07-462b-9cba-df1c58e4f7c5"
      },
      "source": [
        "annotate(\"Arithmetic\")"
      ],
      "execution_count": 24,
      "outputs": [
        {
          "output_type": "execute_result",
          "data": {
            "text/plain": [
              "['Arithmetic  is a branch of mathematics that consists of the study of numbers, especially concerning the properties of the traditional operations on them—addition, subtraction, multiplication, division, exponentiation and extraction of roots',\n",
              " '< Arithmetic , Mathematics>',\n",
              " ['<number>', '<mathematics>', '<numbers>']]"
            ]
          },
          "metadata": {
            "tags": []
          },
          "execution_count": 24
        }
      ]
    }
  ]
}